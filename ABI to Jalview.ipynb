{
 "cells": [
  {
   "cell_type": "markdown",
   "metadata": {},
   "source": [
    "# Visualising sequence quality in Jalview\n",
    "\n",
    "In one of our undergraduate practicals we use PCR to prepare a DNA sample for sanger sequencing and then retrieve the results as AB1 and fasta files. The base calling takes no heed to the quality score in the sequence, with the result that the student must then navigate back and forth between trace file and alignment to assess the validity of variants.\n",
    "\n",
    "In this note we take the AB1 files generated as the sequencer output and extract the called sequences as a fasta file, and the quality scores as a Jalview feature file.  These can then be visualised in Jalview.\n"
   ]
  },
  {
   "cell_type": "code",
   "execution_count": 4,
   "metadata": {
    "collapsed": true
   },
   "outputs": [],
   "source": [
    "from Bio import SeqIO\n",
    "import os\n"
   ]
  },
  {
   "cell_type": "markdown",
   "metadata": {},
   "source": [
    "The imports we use are BioPython (I have 1.69 installed with anaconda) for handling the sequence conversion and os for navigating the directory structure.\n",
    "\n",
    "In the code below we enter the path to the directory of .ab1 files to process, and open a fasta and jalview feature file for output.\n",
    "\n",
    "In addition we create an array to keep all our sequences."
   ]
  },
  {
   "cell_type": "code",
   "execution_count": 1,
   "metadata": {
    "collapsed": true
   },
   "outputs": [],
   "source": [
    "datadir = 'ab1/ab1'\n",
    "outfile = 'sequences.fasta'\n",
    "\n",
    "features = 'sequences.jff'\n",
    "ffh = open(features, 'w')\n",
    "header='''phred score\\tff0000|ffaa|0|95'''\n",
    "print(header, file=ffh)\n",
    "\n",
    "sequences = []"
   ]
  },
  {
   "cell_type": "markdown",
   "metadata": {},
   "source": [
    "First define a method for processing an ab1 file. This will use Biopython to extract the phred score (sequencw quality) and add the sequence record to a list for later output."
   ]
  },
  {
   "cell_type": "code",
   "execution_count": 12,
   "metadata": {
    "collapsed": true
   },
   "outputs": [],
   "source": [
    "def extract_info(file, featurefile):\n",
    "    record = list(SeqIO.parse(file, 'abi'))[0]\n",
    "    sequence = record.seq\n",
    "    quality = record.letter_annotations['phred_quality']\n",
    "    #set the id so that it appears in the fasta file correctly\n",
    "    record.id = record.name\n",
    "    sequences.append(record)\n",
    "    #print out the phred score, one base per line.\n",
    "    for i in range(len(sequence)):\n",
    "        spos=i+1\n",
    "        print('\\t'.join([str(quality[i]), record.name,\"-1\", str(spos), str(spos), \n",
    "                         \"phred score\", str(quality[i])]),file=featurefile)\n",
    "    \n",
    "   \n",
    "    "
   ]
  },
  {
   "cell_type": "markdown",
   "metadata": {},
   "source": [
    "Now loop through all the files in datadir, processing any ab1 files."
   ]
  },
  {
   "cell_type": "code",
   "execution_count": 13,
   "metadata": {},
   "outputs": [],
   "source": [
    "for abifile in os.listdir(datadir):\n",
    "    if not abifile.endswith('ab1'):\n",
    "        continue\n",
    "    extract_info(os.path.join(datadir, abifile), ffh)\n",
    "\n",
    "ffh.close()\n"
   ]
  },
  {
   "cell_type": "markdown",
   "metadata": {},
   "source": [
    "And write out the called sequences in FASTA format."
   ]
  },
  {
   "cell_type": "code",
   "execution_count": 14,
   "metadata": {},
   "outputs": [
    {
     "data": {
      "text/plain": [
       "95"
      ]
     },
     "execution_count": 14,
     "metadata": {},
     "output_type": "execute_result"
    }
   ],
   "source": [
    "SeqIO.write(sequences, outfile, 'fasta')"
   ]
  },
  {
   "cell_type": "markdown",
   "metadata": {},
   "source": [
    "Read the sequences into Jalview in the usual way. Then chose _File > Load Features/Annotations_ from the menu in the alignment window. This will load the quality scores and you should end up with something which looks like this:\n",
    "![Alignment](Capture.PNG)\n"
   ]
  }
 ],
 "metadata": {
  "kernelspec": {
   "display_name": "Python 3",
   "language": "python",
   "name": "python3"
  },
  "language_info": {
   "codemirror_mode": {
    "name": "ipython",
    "version": 3
   },
   "file_extension": ".py",
   "mimetype": "text/x-python",
   "name": "python",
   "nbconvert_exporter": "python",
   "pygments_lexer": "ipython3",
   "version": "3.6.1"
  }
 },
 "nbformat": 4,
 "nbformat_minor": 2
}
